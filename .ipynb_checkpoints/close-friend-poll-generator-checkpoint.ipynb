{
 "cells": [
  {
   "cell_type": "code",
   "execution_count": 1,
   "metadata": {},
   "outputs": [],
   "source": [
    "# Don't change this cell\n",
    "import random\n",
    "import time"
   ]
  },
  {
   "cell_type": "code",
   "execution_count": 3,
   "metadata": {},
   "outputs": [],
   "source": [
    "# You may want to change the elements as you wish, just be careful about having even number of elements\n",
    "items = ['Baklava', 'Şöbiyet', 'Ekmek Kadayıfı', 'Sütlaç', 'Şekerpare', 'Kemalpaşa', 'Künefe', 'Katmer']\n",
    "ordered_elements = []\n",
    "while len(items) != 0:\n",
    "    num = random.randint(0, len(items) - 1)\n",
    "    pick = items[num]\n",
    "    del items[num]\n",
    "    ordered_elements.append(pick)"
   ]
  },
  {
   "cell_type": "code",
   "execution_count": null,
   "metadata": {},
   "outputs": [
    {
     "name": "stdout",
     "output_type": "stream",
     "text": [
      "1. element seçiliyor...\n",
      ".\n",
      "Kemalpaşa\n",
      "2. element seçiliyor...\n",
      ".\n",
      "Baklava\n",
      "-------------------------------\n",
      "1. anket\n",
      "Kemalpaşa vs Baklava\n",
      "-------------------------------\n"
     ]
    }
   ],
   "source": [
    "# Final Presentation\n",
    "i = 1\n",
    "prev_elem = None\n",
    "for elem in ordered_elements:\n",
    "    print(\"%d. element seçiliyor...\" % i)\n",
    "    for j in range(1): # in case you want to put more than 1 dot, change this\n",
    "        print(\".\")\n",
    "        time.sleep(3)\n",
    "    print(elem)\n",
    "    if (i % 2 == 0):\n",
    "        print(\"-------------------------------\")\n",
    "        print(\"%d. anket\" % (i/2))\n",
    "        print(prev_elem + \" vs \" + elem)\n",
    "        print(\"-------------------------------\")\n",
    "    prev_elem = elem\n",
    "    i += 1\n",
    "    time.sleep(1)\n",
    "    \n",
    "    "
   ]
  },
  {
   "cell_type": "code",
   "execution_count": null,
   "metadata": {},
   "outputs": [],
   "source": []
  }
 ],
 "metadata": {
  "kernelspec": {
   "display_name": "Python 3",
   "language": "python",
   "name": "python3"
  },
  "language_info": {
   "codemirror_mode": {
    "name": "ipython",
    "version": 3
   },
   "file_extension": ".py",
   "mimetype": "text/x-python",
   "name": "python",
   "nbconvert_exporter": "python",
   "pygments_lexer": "ipython3",
   "version": "3.7.4"
  }
 },
 "nbformat": 4,
 "nbformat_minor": 2
}
