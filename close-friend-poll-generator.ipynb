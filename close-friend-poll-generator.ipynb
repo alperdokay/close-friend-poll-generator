{
 "cells": [
  {
   "cell_type": "code",
   "execution_count": 31,
   "metadata": {},
   "outputs": [],
   "source": [
    "import random\n",
    "import time"
   ]
  },
  {
   "cell_type": "code",
   "execution_count": 32,
   "metadata": {},
   "outputs": [],
   "source": [
    "items = ['Baklava', 'Şöbiyet', 'Ekmek Kadayıfı', 'Sütlaç', 'Şekerpare', 'Kemalpaşa', 'Künefe', 'Katmer']\n",
    "ordered_elements = []\n",
    "while len(items) != 0:\n",
    "    num = random.randint(0, len(items) - 1)\n",
    "    pick = items[num]\n",
    "    del items[num]\n",
    "    ordered_elements.append(pick)"
   ]
  },
  {
   "cell_type": "code",
   "execution_count": 36,
   "metadata": {},
   "outputs": [
    {
     "name": "stdout",
     "output_type": "stream",
     "text": [
      "1. element seçiliyor...\n",
      ".\n",
      "Künefe\n",
      "2. element seçiliyor...\n",
      ".\n",
      "Baklava\n",
      "-------------------------------\n",
      "1. anket\n",
      "Künefe vs Baklava\n",
      "-------------------------------\n",
      "3. element seçiliyor...\n",
      ".\n",
      "Şekerpare\n",
      "4. element seçiliyor...\n",
      ".\n",
      "Şöbiyet\n",
      "-------------------------------\n",
      "2. anket\n",
      "Şekerpare vs Şöbiyet\n",
      "-------------------------------\n",
      "5. element seçiliyor...\n",
      ".\n",
      "Katmer\n",
      "6. element seçiliyor...\n",
      ".\n",
      "Ekmek Kadayıfı\n",
      "-------------------------------\n",
      "3. anket\n",
      "Katmer vs Ekmek Kadayıfı\n",
      "-------------------------------\n",
      "7. element seçiliyor...\n",
      ".\n",
      "Kemalpaşa\n",
      "8. element seçiliyor...\n",
      ".\n",
      "Sütlaç\n",
      "-------------------------------\n",
      "4. anket\n",
      "Kemalpaşa vs Sütlaç\n",
      "-------------------------------\n"
     ]
    }
   ],
   "source": [
    "# Final Presentation\n",
    "i = 1\n",
    "prev_elem = None\n",
    "for elem in ordered_elements:\n",
    "    print(\"%d. element seçiliyor...\" % i)\n",
    "    for j in range(1):\n",
    "        print(\".\")\n",
    "        time.sleep(3)\n",
    "    print(elem)\n",
    "    if (i % 2 == 0):\n",
    "        print(\"-------------------------------\")\n",
    "        print(\"%d. anket\" % (i/2))\n",
    "        print(prev_elem + \" vs \" + elem)\n",
    "        print(\"-------------------------------\")\n",
    "    prev_elem = elem\n",
    "    i += 1\n",
    "    time.sleep(1)\n",
    "    \n",
    "    "
   ]
  },
  {
   "cell_type": "code",
   "execution_count": null,
   "metadata": {},
   "outputs": [],
   "source": []
  }
 ],
 "metadata": {
  "kernelspec": {
   "display_name": "Python 3",
   "language": "python",
   "name": "python3"
  },
  "language_info": {
   "codemirror_mode": {
    "name": "ipython",
    "version": 3
   },
   "file_extension": ".py",
   "mimetype": "text/x-python",
   "name": "python",
   "nbconvert_exporter": "python",
   "pygments_lexer": "ipython3",
   "version": "3.7.4"
  }
 },
 "nbformat": 4,
 "nbformat_minor": 2
}
